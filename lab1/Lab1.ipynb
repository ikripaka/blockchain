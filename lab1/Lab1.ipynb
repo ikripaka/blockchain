{
  "nbformat": 4,
  "nbformat_minor": 0,
  "metadata": {
    "colab": {
      "provenance": [],
      "include_colab_link": true
    },
    "kernelspec": {
      "name": "python3",
      "display_name": "Python 3"
    },
    "language_info": {
      "name": "python"
    }
  },
  "cells": [
    {
      "cell_type": "markdown",
      "metadata": {
        "id": "view-in-github",
        "colab_type": "text"
      },
      "source": [
        "<a href=\"https://colab.research.google.com/github/ikripaka/blockchain/blob/main/lab1/Lab1.ipynb\" target=\"_parent\"><img src=\"https://colab.research.google.com/assets/colab-badge.svg\" alt=\"Open In Colab\"/></a>"
      ]
    },
    {
      "cell_type": "markdown",
      "source": [
        "## Лабораторна робота №1 “Захищенiсть вiд атак подвiйних витрат у мережах з повiльною синхронiзацiєю”"
      ],
      "metadata": {
        "collapsed": false,
        "id": "nAPARQF_R-_s"
      }
    },
    {
      "cell_type": "code",
      "source": [
        "import math\n",
        "from decimal import *\n",
        "import matplotlib.pyplot as plt\n",
        "import scipy.special as ss\n",
        "import sympy as sp\n",
        "from prettytable import PrettyTable"
      ],
      "metadata": {
        "id": "_94RKQj7xv7u"
      },
      "execution_count": null,
      "outputs": []
    },
    {
      "cell_type": "markdown",
      "source": [
        "### Відповідно до 2 варіанту маємо наступні константи"
      ],
      "metadata": {
        "collapsed": false,
        "id": "Vm0K3ypuR-_7"
      }
    },
    {
      "cell_type": "code",
      "source": [
        "a_h = 0.0008\n",
        "a_m = 0.0004\n",
        "a = a_h + a_m\n",
        "Dh = 45"
      ],
      "metadata": {
        "id": "Fg8PqT5b1luh"
      },
      "execution_count": null,
      "outputs": []
    },
    {
      "cell_type": "markdown",
      "source": [
        "### 1) Обчислення порогу стійкості $p_{st}$"
      ],
      "metadata": {
        "collapsed": false,
        "id": "uUktdzQoR-_9"
      }
    },
    {
      "cell_type": "code",
      "execution_count": null,
      "outputs": [
        {
          "output_type": "stream",
          "name": "stdout",
          "text": [
            "p_st =  [0.486685301377169]\n"
          ]
        }
      ],
      "source": [
        "def calc_stability_threshold(g):\n",
        "    x = sp.symbols('x')\n",
        "    f = sp.exp(g * x) * 0.5 + x\n",
        "    sol = sp.solve(sp.Eq(f, 1), x)\n",
        "    print('p_st = ', sol)\n",
        "\n",
        "\n",
        "calc_stability_threshold(a * Dh)"
      ],
      "metadata": {
        "pycharm": {
          "is_executing": true
        },
        "colab": {
          "base_uri": "https://localhost:8080/"
        },
        "id": "7JaY3UpwR-_9",
        "outputId": "e9e799e9-a117-43d2-9deb-4d12bf94e28a"
      }
    },
    {
      "cell_type": "markdown",
      "source": [
        "### 2) Обчислення ймовірності \"наздогнати\" вітку чесних майнерів шахраями"
      ],
      "metadata": {
        "collapsed": false,
        "id": "11S_0kimR-_-"
      }
    },
    {
      "cell_type": "code",
      "execution_count": null,
      "outputs": [
        {
          "output_type": "stream",
          "name": "stdout",
          "text": [
            "+----+----------+\n",
            "| n  |    q     |\n",
            "+----+----------+\n",
            "| 1  | 0.527244 |\n",
            "| 2  | 0.277987 |\n",
            "| 3  | 0.146567 |\n",
            "| 4  | 0.077277 |\n",
            "| 5  | 0.040744 |\n",
            "| 6  | 0.021482 |\n",
            "| 7  | 0.011326 |\n",
            "| 8  | 0.005972 |\n",
            "| 9  | 0.003149 |\n",
            "| 10 | 0.00166  |\n",
            "| 11 | 0.000875 |\n",
            "+----+----------+\n"
          ]
        }
      ],
      "source": [
        "# calculating p_h^'\n",
        "def p1(a_m, D_h, p_h):\n",
        "    p_h1 = math.exp(-a_m * D_h) * p_h\n",
        "    p_m1 = 1 - p_h1\n",
        "    return p_h1, p_m1\n",
        "\n",
        "\n",
        "p_h1, p_m1 = p1(a_m, Dh, a_h / a)\n",
        "n = []\n",
        "q = []\n",
        "table = PrettyTable([\"n\", \"q\"])\n",
        "for i in range(1, 12):\n",
        "    n.append(i)\n",
        "    q.append(1 if p_m1 > p_h1 else (p_m1 / p_h1) ** i)\n",
        "    table.add_row([i, round(q[i - 1], 6)])\n",
        "print(table)"
      ],
      "metadata": {
        "pycharm": {
          "is_executing": true
        },
        "colab": {
          "base_uri": "https://localhost:8080/"
        },
        "id": "_v0Hi1ZGR-__",
        "outputId": "12447184-83b3-4988-d0b2-d171599586ba"
      }
    },
    {
      "cell_type": "code",
      "source": [
        "plt.plot(n, q)\n",
        "plt.show()"
      ],
      "metadata": {
        "id": "g2m02oM66b0W",
        "pycharm": {
          "is_executing": true
        },
        "colab": {
          "base_uri": "https://localhost:8080/",
          "height": 265
        },
        "outputId": "60f37603-b3b8-4f25-c310-560baa9ea220"
      },
      "execution_count": null,
      "outputs": [
        {
          "output_type": "display_data",
          "data": {
            "text/plain": [
              "<Figure size 432x288 with 1 Axes>"
            ],
            "image/png": "[encoded data removed]"
          },
          "metadata": {
            "needs_background": "light"
          }
        }
      ]
    },
    {
      "cell_type": "markdown",
      "source": [
        "### 3) Обчислення мінімальної кількості блоків підтвердження, які гарантують, що ймовірність успішної атаки подвійної витрати $\\leq 10^{-3}$"
      ],
      "metadata": {
        "collapsed": false,
        "id": "42sQtBCsR_AA"
      }
    },
    {
      "cell_type": "code",
      "source": [
        "a = Decimal('0.0012')"
      ],
      "metadata": {
        "id": "X78rrQnos_rA"
      },
      "execution_count": null,
      "outputs": []
    },
    {
      "cell_type": "code",
      "execution_count": null,
      "outputs": [],
      "source": [
        "# Same function as <p1> but in decimal numbers\n",
        "def p2(a_m, D_h, p_h):\n",
        "    p_h1 = (-a_m * D_h).exp() * p_h\n",
        "    p_m1 = 1 - p_h1\n",
        "    return p_h1, p_m1\n",
        "\n",
        "# Calculating P_n(k)\n",
        "def P(a_m, D_h, a, p_h, n, k):\n",
        "    p = 0\n",
        "    for i in range(0, k + 1):\n",
        "        p += Decimal(math.factorial(n + i - 1)) * Decimal(ss.binom(k, i)) / (a * n * D_h) ** i\n",
        "    p *= p_h ** n / Decimal(math.factorial(n - 1))\n",
        "    p *= (-a_m * n * D_h).exp() * (a_m * n * D_h) ** k / Decimal(math.factorial(k))\n",
        "    return p\n",
        "\n",
        "\n",
        "# Calculating p(z) -- probability of success by the MMs after z confirmation blocks\n",
        "def calc_success_probability(a, D_h, p_m):\n",
        "    p_h1, p_m1 = p2(a * p_m, D_h, 1 - p_m)\n",
        "    p = 1\n",
        "    z = 0\n",
        "    if p_m1 < p_h1:\n",
        "        while p > 0.001:\n",
        "            z += 1\n",
        "            p = 1\n",
        "            for k in range(0, z + 1):\n",
        "                p -= P(a * p_m, D_h, a, 1 - p_m, z, k) * (1 - (p_m1 / p_h1) ** (z - k))\n",
        "    return z"
      ],
      "metadata": {
        "pycharm": {
          "is_executing": true
        },
        "id": "Jo7kmSzOR_AB"
      }
    },
    {
      "cell_type": "markdown",
      "source": [
        "**Обчислюємо для гешрейту зловмисника $p_M = 0.15$**"
      ],
      "metadata": {
        "collapsed": false,
        "id": "Rav55NvQR_AB"
      }
    },
    {
      "cell_type": "code",
      "execution_count": null,
      "outputs": [
        {
          "output_type": "stream",
          "name": "stdout",
          "text": [
            "+-----+----+\n",
            "|  Dh | z  |\n",
            "+-----+----+\n",
            "|  1  | 9  |\n",
            "|  2  | 9  |\n",
            "|  3  | 9  |\n",
            "|  4  | 9  |\n",
            "|  5  | 9  |\n",
            "|  6  | 9  |\n",
            "|  7  | 9  |\n",
            "|  8  | 9  |\n",
            "|  9  | 9  |\n",
            "|  10 | 9  |\n",
            "|  11 | 9  |\n",
            "|  12 | 9  |\n",
            "|  13 | 9  |\n",
            "|  14 | 9  |\n",
            "|  15 | 9  |\n",
            "|  16 | 9  |\n",
            "|  17 | 9  |\n",
            "|  18 | 9  |\n",
            "|  19 | 9  |\n",
            "|  20 | 9  |\n",
            "|  21 | 9  |\n",
            "|  22 | 9  |\n",
            "|  23 | 9  |\n",
            "|  24 | 9  |\n",
            "|  25 | 9  |\n",
            "|  26 | 9  |\n",
            "|  27 | 9  |\n",
            "|  28 | 9  |\n",
            "|  29 | 9  |\n",
            "|  30 | 9  |\n",
            "|  31 | 9  |\n",
            "|  32 | 9  |\n",
            "|  33 | 9  |\n",
            "|  34 | 9  |\n",
            "|  35 | 9  |\n",
            "|  36 | 9  |\n",
            "|  37 | 9  |\n",
            "|  38 | 9  |\n",
            "|  39 | 9  |\n",
            "|  40 | 9  |\n",
            "|  41 | 9  |\n",
            "|  42 | 9  |\n",
            "|  43 | 9  |\n",
            "|  44 | 9  |\n",
            "|  45 | 9  |\n",
            "|  46 | 9  |\n",
            "|  47 | 9  |\n",
            "|  48 | 9  |\n",
            "|  49 | 9  |\n",
            "|  50 | 9  |\n",
            "|  51 | 9  |\n",
            "|  52 | 9  |\n",
            "|  53 | 9  |\n",
            "|  54 | 9  |\n",
            "|  55 | 9  |\n",
            "|  56 | 9  |\n",
            "|  57 | 9  |\n",
            "|  58 | 9  |\n",
            "|  59 | 9  |\n",
            "|  60 | 9  |\n",
            "|  61 | 9  |\n",
            "|  62 | 9  |\n",
            "|  63 | 9  |\n",
            "|  64 | 9  |\n",
            "|  65 | 9  |\n",
            "|  66 | 9  |\n",
            "|  67 | 9  |\n",
            "|  68 | 9  |\n",
            "|  69 | 9  |\n",
            "|  70 | 9  |\n",
            "|  71 | 9  |\n",
            "|  72 | 9  |\n",
            "|  73 | 9  |\n",
            "|  74 | 9  |\n",
            "|  75 | 9  |\n",
            "|  76 | 9  |\n",
            "|  77 | 9  |\n",
            "|  78 | 9  |\n",
            "|  79 | 9  |\n",
            "|  80 | 9  |\n",
            "|  81 | 9  |\n",
            "|  82 | 9  |\n",
            "|  83 | 9  |\n",
            "|  84 | 9  |\n",
            "|  85 | 9  |\n",
            "|  86 | 9  |\n",
            "|  87 | 9  |\n",
            "|  88 | 9  |\n",
            "|  89 | 9  |\n",
            "|  90 | 9  |\n",
            "|  91 | 9  |\n",
            "|  92 | 9  |\n",
            "|  93 | 9  |\n",
            "|  94 | 9  |\n",
            "|  95 | 9  |\n",
            "|  96 | 9  |\n",
            "|  97 | 9  |\n",
            "|  98 | 9  |\n",
            "|  99 | 9  |\n",
            "| 100 | 9  |\n",
            "| 101 | 9  |\n",
            "| 102 | 9  |\n",
            "| 103 | 9  |\n",
            "| 104 | 9  |\n",
            "| 105 | 9  |\n",
            "| 106 | 9  |\n",
            "| 107 | 9  |\n",
            "| 108 | 9  |\n",
            "| 109 | 10 |\n",
            "| 110 | 10 |\n",
            "| 111 | 10 |\n",
            "| 112 | 10 |\n",
            "| 113 | 10 |\n",
            "| 114 | 10 |\n",
            "| 115 | 10 |\n",
            "| 116 | 10 |\n",
            "| 117 | 10 |\n",
            "| 118 | 10 |\n",
            "| 119 | 10 |\n",
            "| 120 | 10 |\n",
            "| 121 | 10 |\n",
            "| 122 | 10 |\n",
            "| 123 | 10 |\n",
            "| 124 | 10 |\n",
            "| 125 | 10 |\n",
            "| 126 | 10 |\n",
            "| 127 | 10 |\n",
            "| 128 | 10 |\n",
            "| 129 | 10 |\n",
            "| 130 | 10 |\n",
            "| 131 | 10 |\n",
            "| 132 | 10 |\n",
            "| 133 | 10 |\n",
            "| 134 | 10 |\n",
            "| 135 | 10 |\n",
            "| 136 | 10 |\n",
            "| 137 | 10 |\n",
            "| 138 | 10 |\n",
            "| 139 | 10 |\n",
            "| 140 | 10 |\n",
            "| 141 | 10 |\n",
            "| 142 | 10 |\n",
            "| 143 | 10 |\n",
            "| 144 | 10 |\n",
            "| 145 | 10 |\n",
            "| 146 | 10 |\n",
            "| 147 | 10 |\n",
            "| 148 | 10 |\n",
            "| 149 | 10 |\n",
            "| 150 | 10 |\n",
            "| 151 | 10 |\n",
            "| 152 | 10 |\n",
            "| 153 | 10 |\n",
            "| 154 | 10 |\n",
            "| 155 | 10 |\n",
            "| 156 | 10 |\n",
            "| 157 | 10 |\n",
            "| 158 | 10 |\n",
            "| 159 | 10 |\n",
            "| 160 | 10 |\n",
            "| 161 | 10 |\n",
            "| 162 | 10 |\n",
            "| 163 | 10 |\n",
            "| 164 | 10 |\n",
            "| 165 | 10 |\n",
            "| 166 | 10 |\n",
            "| 167 | 10 |\n",
            "| 168 | 10 |\n",
            "| 169 | 10 |\n",
            "| 170 | 10 |\n",
            "| 171 | 10 |\n",
            "| 172 | 10 |\n",
            "| 173 | 10 |\n",
            "| 174 | 10 |\n",
            "| 175 | 10 |\n",
            "| 176 | 10 |\n",
            "| 177 | 10 |\n",
            "| 178 | 10 |\n",
            "| 179 | 10 |\n",
            "| 180 | 10 |\n",
            "+-----+----+\n"
          ]
        }
      ],
      "source": [
        "p_m = Decimal('0.15')\n",
        "d_h = []\n",
        "z = []\n",
        "table1 = PrettyTable([\"Dh\", \"z\"])\n",
        "for d in range(1, 181):\n",
        "    d_h.append(d)\n",
        "    z.append(calc_success_probability(a, d, p_m))\n",
        "    table1.add_row([d, round(z[d - 1], 6)])\n",
        "print(table1)"
      ],
      "metadata": {
        "pycharm": {
          "is_executing": true
        },
        "colab": {
          "base_uri": "https://localhost:8080/"
        },
        "id": "C7mbynJER_AC",
        "outputId": "a146073c-f865-46e3-ffb6-ce802585764e"
      }
    },
    {
      "cell_type": "code",
      "source": [
        "plt.plot(d_h, z)\n",
        "plt.show()"
      ],
      "metadata": {
        "colab": {
          "base_uri": "https://localhost:8080/",
          "height": 265
        },
        "id": "hENZRJlwE4BW",
        "outputId": "3727763c-da10-4f99-c51b-b2ae2dda743d",
        "pycharm": {
          "is_executing": true
        }
      },
      "execution_count": null,
      "outputs": [
        {
          "output_type": "display_data",
          "data": {
            "text/plain": [
              "<Figure size 432x288 with 1 Axes>"
            ],
            "image/png": "[encoded data removed]"
          },
          "metadata": {
            "needs_background": "light"
          }
        }
      ]
    },
    {
      "cell_type": "markdown",
      "source": [
        "**Обчислюємо для гешрейту зловмисника $p_M = 0.25$**"
      ],
      "metadata": {
        "collapsed": false,
        "id": "vRHxX0bGR_AD"
      }
    },
    {
      "cell_type": "code",
      "source": [
        "p_m = Decimal('0.25')\n",
        "d_h = []\n",
        "z = []\n",
        "table2 = PrettyTable([\"Dh\", \"z\"])\n",
        "for d in range(1, 181):\n",
        "    d_h.append(d)\n",
        "    z.append(calc_success_probability(a, d, p_m))\n",
        "    table2.add_row([d, round(z[d - 1], 6)])\n",
        "print(table2)"
      ],
      "metadata": {
        "id": "6tJSO8FJ8w_8",
        "pycharm": {
          "is_executing": true
        },
        "colab": {
          "base_uri": "https://localhost:8080/"
        },
        "outputId": "889b46f8-9f5a-4ff9-b4ea-80f9b3da9436"
      },
      "execution_count": null,
      "outputs": [
        {
          "output_type": "stream",
          "name": "stdout",
          "text": [
            "+-----+----+\n",
            "|  Dh | z  |\n",
            "+-----+----+\n",
            "|  1  | 20 |\n",
            "|  2  | 20 |\n",
            "|  3  | 20 |\n",
            "|  4  | 20 |\n",
            "|  5  | 20 |\n",
            "|  6  | 20 |\n",
            "|  7  | 20 |\n",
            "|  8  | 20 |\n",
            "|  9  | 20 |\n",
            "|  10 | 20 |\n",
            "|  11 | 20 |\n",
            "|  12 | 20 |\n",
            "|  13 | 20 |\n",
            "|  14 | 20 |\n",
            "|  15 | 20 |\n",
            "|  16 | 20 |\n",
            "|  17 | 20 |\n",
            "|  18 | 20 |\n",
            "|  19 | 20 |\n",
            "|  20 | 20 |\n",
            "|  21 | 20 |\n",
            "|  22 | 20 |\n",
            "|  23 | 20 |\n",
            "|  24 | 20 |\n",
            "|  25 | 20 |\n",
            "|  26 | 20 |\n",
            "|  27 | 20 |\n",
            "|  28 | 20 |\n",
            "|  29 | 20 |\n",
            "|  30 | 20 |\n",
            "|  31 | 20 |\n",
            "|  32 | 20 |\n",
            "|  33 | 20 |\n",
            "|  34 | 20 |\n",
            "|  35 | 20 |\n",
            "|  36 | 20 |\n",
            "|  37 | 20 |\n",
            "|  38 | 20 |\n",
            "|  39 | 21 |\n",
            "|  40 | 21 |\n",
            "|  41 | 21 |\n",
            "|  42 | 21 |\n",
            "|  43 | 21 |\n",
            "|  44 | 21 |\n",
            "|  45 | 21 |\n",
            "|  46 | 21 |\n",
            "|  47 | 21 |\n",
            "|  48 | 21 |\n",
            "|  49 | 21 |\n",
            "|  50 | 21 |\n",
            "|  51 | 21 |\n",
            "|  52 | 21 |\n",
            "|  53 | 21 |\n",
            "|  54 | 21 |\n",
            "|  55 | 21 |\n",
            "|  56 | 21 |\n",
            "|  57 | 21 |\n",
            "|  58 | 21 |\n",
            "|  59 | 21 |\n",
            "|  60 | 21 |\n",
            "|  61 | 21 |\n",
            "|  62 | 21 |\n",
            "|  63 | 21 |\n",
            "|  64 | 21 |\n",
            "|  65 | 21 |\n",
            "|  66 | 21 |\n",
            "|  67 | 21 |\n",
            "|  68 | 21 |\n",
            "|  69 | 21 |\n",
            "|  70 | 21 |\n",
            "|  71 | 21 |\n",
            "|  72 | 21 |\n",
            "|  73 | 21 |\n",
            "|  74 | 21 |\n",
            "|  75 | 21 |\n",
            "|  76 | 21 |\n",
            "|  77 | 21 |\n",
            "|  78 | 22 |\n",
            "|  79 | 22 |\n",
            "|  80 | 22 |\n",
            "|  81 | 22 |\n",
            "|  82 | 22 |\n",
            "|  83 | 22 |\n",
            "|  84 | 22 |\n",
            "|  85 | 22 |\n",
            "|  86 | 22 |\n",
            "|  87 | 22 |\n",
            "|  88 | 22 |\n",
            "|  89 | 22 |\n",
            "|  90 | 22 |\n",
            "|  91 | 22 |\n",
            "|  92 | 22 |\n",
            "|  93 | 22 |\n",
            "|  94 | 22 |\n",
            "|  95 | 22 |\n",
            "|  96 | 22 |\n",
            "|  97 | 22 |\n",
            "|  98 | 22 |\n",
            "|  99 | 22 |\n",
            "| 100 | 22 |\n",
            "| 101 | 22 |\n",
            "| 102 | 22 |\n",
            "| 103 | 22 |\n",
            "| 104 | 22 |\n",
            "| 105 | 22 |\n",
            "| 106 | 22 |\n",
            "| 107 | 22 |\n",
            "| 108 | 22 |\n",
            "| 109 | 22 |\n",
            "| 110 | 22 |\n",
            "| 111 | 22 |\n",
            "| 112 | 22 |\n",
            "| 113 | 22 |\n",
            "| 114 | 22 |\n",
            "| 115 | 23 |\n",
            "| 116 | 23 |\n",
            "| 117 | 23 |\n",
            "| 118 | 23 |\n",
            "| 119 | 23 |\n",
            "| 120 | 23 |\n",
            "| 121 | 23 |\n",
            "| 122 | 23 |\n",
            "| 123 | 23 |\n",
            "| 124 | 23 |\n",
            "| 125 | 23 |\n",
            "| 126 | 23 |\n",
            "| 127 | 23 |\n",
            "| 128 | 23 |\n",
            "| 129 | 23 |\n",
            "| 130 | 23 |\n",
            "| 131 | 23 |\n",
            "| 132 | 23 |\n",
            "| 133 | 23 |\n",
            "| 134 | 23 |\n",
            "| 135 | 23 |\n",
            "| 136 | 23 |\n",
            "| 137 | 23 |\n",
            "| 138 | 23 |\n",
            "| 139 | 23 |\n",
            "| 140 | 23 |\n",
            "| 141 | 23 |\n",
            "| 142 | 23 |\n",
            "| 143 | 23 |\n",
            "| 144 | 23 |\n",
            "| 145 | 23 |\n",
            "| 146 | 23 |\n",
            "| 147 | 23 |\n",
            "| 148 | 23 |\n",
            "| 149 | 24 |\n",
            "| 150 | 24 |\n",
            "| 151 | 24 |\n",
            "| 152 | 24 |\n",
            "| 153 | 24 |\n",
            "| 154 | 24 |\n",
            "| 155 | 24 |\n",
            "| 156 | 24 |\n",
            "| 157 | 24 |\n",
            "| 158 | 24 |\n",
            "| 159 | 24 |\n",
            "| 160 | 24 |\n",
            "| 161 | 24 |\n",
            "| 162 | 24 |\n",
            "| 163 | 24 |\n",
            "| 164 | 24 |\n",
            "| 165 | 24 |\n",
            "| 166 | 24 |\n",
            "| 167 | 24 |\n",
            "| 168 | 24 |\n",
            "| 169 | 24 |\n",
            "| 170 | 24 |\n",
            "| 171 | 24 |\n",
            "| 172 | 24 |\n",
            "| 173 | 24 |\n",
            "| 174 | 24 |\n",
            "| 175 | 24 |\n",
            "| 176 | 24 |\n",
            "| 177 | 24 |\n",
            "| 178 | 24 |\n",
            "| 179 | 24 |\n",
            "| 180 | 24 |\n",
            "+-----+----+\n"
          ]
        }
      ]
    },
    {
      "cell_type": "code",
      "source": [
        "plt.plot(d_h, z)\n",
        "plt.show()"
      ],
      "metadata": {
        "colab": {
          "base_uri": "https://localhost:8080/",
          "height": 265
        },
        "id": "XddRt0aoGc7X",
        "outputId": "09b5ce8b-8f9f-4046-8c85-29e6601f407e",
        "pycharm": {
          "is_executing": true
        }
      },
      "execution_count": null,
      "outputs": [
        {
          "output_type": "display_data",
          "data": {
            "text/plain": [
              "<Figure size 432x288 with 1 Axes>"
            ],
            "image/png": "[encoded data removed]"
          },
          "metadata": {
            "needs_background": "light"
          }
        }
      ]
    },
    {
      "cell_type": "markdown",
      "source": [
        "**Обчислюємо для гешрейту зловмисника $p_M = 0.4$**"
      ],
      "metadata": {
        "collapsed": false,
        "id": "FCNVB5s2R_AE"
      }
    },
    {
      "cell_type": "code",
      "source": [
        "p_m = Decimal('0.4')\n",
        "d_h = []\n",
        "z = []\n",
        "table3 = PrettyTable([\"Dh\", \"z\"])\n",
        "for d in range(1, 181):\n",
        "    d_h.append(d)\n",
        "    z.append(calc_success_probability(a, d, p_m))\n",
        "    table3.add_row([d, round(z[d - 1], 6)])\n",
        "print(table3)"
      ],
      "metadata": {
        "id": "JQg1sM4j8ytr",
        "colab": {
          "base_uri": "https://localhost:8080/"
        },
        "outputId": "6c7e88d7-a218-44d7-bfb0-1217306d37c9",
        "pycharm": {
          "is_executing": true
        }
      },
      "execution_count": null,
      "outputs": [
        {
          "output_type": "stream",
          "name": "stdout",
          "text": [
            "+-----+-----+\n",
            "|  Dh |  z  |\n",
            "+-----+-----+\n",
            "|  1  | 134 |\n",
            "|  2  | 134 |\n",
            "|  3  | 135 |\n",
            "|  4  | 135 |\n",
            "|  5  | 136 |\n",
            "|  6  | 136 |\n",
            "|  7  | 136 |\n",
            "|  8  | 137 |\n",
            "|  9  | 137 |\n",
            "|  10 | 138 |\n",
            "|  11 | 138 |\n",
            "|  12 | 139 |\n",
            "|  13 | 139 |\n",
            "|  14 | 140 |\n",
            "|  15 | 140 |\n",
            "|  16 | 141 |\n",
            "|  17 | 141 |\n",
            "|  18 | 142 |\n",
            "|  19 | 142 |\n",
            "|  20 | 142 |\n",
            "|  21 | 143 |\n",
            "|  22 | 143 |\n",
            "|  23 | 144 |\n",
            "|  24 | 144 |\n",
            "|  25 | 145 |\n",
            "|  26 | 145 |\n",
            "|  27 | 146 |\n",
            "|  28 | 146 |\n",
            "|  29 | 147 |\n",
            "|  30 | 147 |\n",
            "|  31 | 148 |\n",
            "|  32 | 148 |\n",
            "|  33 | 149 |\n",
            "|  34 | 149 |\n",
            "|  35 | 150 |\n",
            "|  36 | 150 |\n",
            "|  37 | 151 |\n",
            "|  38 | 151 |\n",
            "|  39 | 152 |\n",
            "|  40 | 153 |\n",
            "|  41 | 153 |\n",
            "|  42 | 154 |\n",
            "|  43 | 154 |\n",
            "|  44 | 155 |\n",
            "|  45 | 155 |\n",
            "|  46 | 156 |\n",
            "|  47 | 156 |\n",
            "|  48 | 157 |\n",
            "|  49 | 157 |\n",
            "|  50 | 158 |\n",
            "|  51 | 159 |\n",
            "|  52 | 159 |\n",
            "|  53 | 160 |\n",
            "|  54 | 160 |\n",
            "|  55 | 161 |\n",
            "|  56 | 161 |\n",
            "|  57 | 162 |\n",
            "|  58 | 163 |\n",
            "|  59 | 163 |\n",
            "|  60 | 164 |\n",
            "|  61 | 164 |\n",
            "|  62 | 165 |\n",
            "|  63 | 166 |\n",
            "|  64 | 166 |\n",
            "|  65 | 167 |\n",
            "|  66 | 167 |\n",
            "|  67 | 168 |\n",
            "|  68 | 169 |\n",
            "|  69 | 169 |\n",
            "|  70 | 170 |\n",
            "|  71 | 171 |\n",
            "|  72 | 171 |\n",
            "|  73 | 172 |\n",
            "|  74 | 172 |\n",
            "|  75 | 173 |\n",
            "|  76 | 174 |\n",
            "|  77 | 174 |\n",
            "|  78 | 175 |\n",
            "|  79 | 176 |\n",
            "|  80 | 176 |\n",
            "|  81 | 177 |\n",
            "|  82 | 178 |\n",
            "|  83 | 178 |\n",
            "|  84 | 179 |\n",
            "|  85 | 180 |\n",
            "|  86 | 180 |\n",
            "|  87 | 181 |\n",
            "|  88 | 182 |\n",
            "|  89 | 183 |\n",
            "|  90 | 183 |\n",
            "|  91 | 184 |\n",
            "|  92 | 185 |\n",
            "|  93 | 185 |\n",
            "|  94 | 186 |\n",
            "|  95 | 187 |\n",
            "|  96 | 188 |\n",
            "|  97 | 188 |\n",
            "|  98 | 189 |\n",
            "|  99 | 190 |\n",
            "| 100 | 191 |\n",
            "| 101 | 191 |\n",
            "| 102 | 192 |\n",
            "| 103 | 193 |\n",
            "| 104 | 194 |\n",
            "| 105 | 194 |\n",
            "| 106 | 195 |\n",
            "| 107 | 196 |\n",
            "| 108 | 197 |\n",
            "| 109 | 198 |\n",
            "| 110 | 198 |\n",
            "| 111 | 199 |\n",
            "| 112 | 200 |\n",
            "| 113 | 201 |\n",
            "| 114 | 202 |\n",
            "| 115 | 203 |\n",
            "| 116 | 203 |\n",
            "| 117 | 204 |\n",
            "| 118 | 205 |\n",
            "| 119 | 206 |\n",
            "| 120 | 207 |\n",
            "| 121 | 208 |\n",
            "| 122 | 209 |\n",
            "| 123 | 209 |\n",
            "| 124 | 210 |\n",
            "| 125 | 211 |\n",
            "| 126 | 212 |\n",
            "| 127 | 213 |\n",
            "| 128 | 214 |\n",
            "| 129 | 215 |\n",
            "| 130 | 216 |\n",
            "| 131 | 217 |\n",
            "| 132 | 218 |\n",
            "| 133 | 218 |\n",
            "| 134 | 219 |\n",
            "| 135 | 220 |\n",
            "| 136 | 221 |\n",
            "| 137 | 222 |\n",
            "| 138 | 223 |\n",
            "| 139 | 224 |\n",
            "| 140 | 225 |\n",
            "| 141 | 226 |\n",
            "| 142 | 227 |\n",
            "| 143 | 228 |\n",
            "| 144 | 229 |\n",
            "| 145 | 230 |\n",
            "| 146 | 231 |\n",
            "| 147 | 232 |\n",
            "| 148 | 233 |\n",
            "| 149 | 234 |\n",
            "| 150 | 236 |\n",
            "| 151 | 237 |\n",
            "| 152 | 238 |\n",
            "| 153 | 239 |\n",
            "| 154 | 240 |\n",
            "| 155 | 241 |\n",
            "| 156 | 242 |\n",
            "| 157 | 243 |\n",
            "| 158 | 244 |\n",
            "| 159 | 246 |\n",
            "| 160 | 247 |\n",
            "| 161 | 248 |\n",
            "| 162 | 249 |\n",
            "| 163 | 250 |\n",
            "| 164 | 251 |\n",
            "| 165 | 253 |\n",
            "| 166 | 254 |\n",
            "| 167 | 255 |\n",
            "| 168 | 256 |\n",
            "| 169 | 257 |\n",
            "| 170 | 259 |\n",
            "| 171 | 260 |\n",
            "| 172 | 261 |\n",
            "| 173 | 262 |\n",
            "| 174 | 264 |\n",
            "| 175 | 265 |\n",
            "| 176 | 266 |\n",
            "| 177 | 268 |\n",
            "| 178 | 269 |\n",
            "| 179 | 270 |\n",
            "| 180 | 272 |\n",
            "+-----+-----+\n"
          ]
        }
      ]
    },
    {
      "cell_type": "code",
      "source": [
        "plt.plot(d_h, z)\n",
        "plt.show()"
      ],
      "metadata": {
        "id": "THZHghxLGdkL",
        "pycharm": {
          "is_executing": true
        },
        "colab": {
          "base_uri": "https://localhost:8080/",
          "height": 265
        },
        "outputId": "cb3d2c68-5197-4af7-c238-3d2fc23082b3"
      },
      "execution_count": null,
      "outputs": [
        {
          "output_type": "display_data",
          "data": {
            "text/plain": [
              "<Figure size 432x288 with 1 Axes>"
            ],
            "image/png": "[encoded data removed]"
          },
          "metadata": {
            "needs_background": "light"
          }
        }
      ]
    }
  ]
}